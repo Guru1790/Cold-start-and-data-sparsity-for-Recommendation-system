{
 "cells": [
  {
   "cell_type": "code",
   "execution_count": 1,
   "id": "7dc83090",
   "metadata": {},
   "outputs": [],
   "source": [
    "#content-based recommendation system\n",
    "import pandas as pd\n",
    "from sklearn.feature_extraction.text import TfidfVectorizer\n",
    "from sklearn.metrics.pairwise import linear_kernel"
   ]
  },
  {
   "cell_type": "code",
   "execution_count": 2,
   "id": "1fc425ff",
   "metadata": {},
   "outputs": [],
   "source": [
    "df = pd.read_csv(\"C:\\\\Users\\\\91762\\\\Desktop\\\\Recommendation systems\\\\Recommendation-System-Collabrative-Filtering-master\\\\REdemo_v3.1\\\\data\\\\books.csv\", sep=\";\")"
   ]
  },
  {
   "cell_type": "code",
   "execution_count": 3,
   "id": "1ae41b1b",
   "metadata": {},
   "outputs": [],
   "source": [
    "# Combine relevant features into a single column for text processing\n",
    "df[\"combined_features\"] = df[\"Book-Title\"] + \" \" + df[\"Book-Author\"] + \" \" + df[\"Publisher\"]\n"
   ]
  },
  {
   "cell_type": "code",
   "execution_count": 4,
   "id": "2fa666d1",
   "metadata": {},
   "outputs": [],
   "source": [
    "# Use TF-IDF Vectorizer to convert the text data into a matrix of TF-IDF features\n",
    "tfidf_vectorizer = TfidfVectorizer(stop_words='english')\n",
    "tfidf_matrix = tfidf_vectorizer.fit_transform(df[\"combined_features\"])\n"
   ]
  },
  {
   "cell_type": "code",
   "execution_count": 5,
   "id": "0e393309",
   "metadata": {},
   "outputs": [],
   "source": [
    "# Compute the cosine similarity between items\n",
    "cosine_similarities = linear_kernel(tfidf_matrix, tfidf_matrix)\n"
   ]
  },
  {
   "cell_type": "code",
   "execution_count": 6,
   "id": "73627f49",
   "metadata": {},
   "outputs": [],
   "source": [
    "# Function to get book recommendations based on a given book title\n",
    "def get_recommendations(book_title):\n",
    "    book_index = df.index[df[\"Book-Title\"] == book_title].tolist()[0]\n",
    "    cosine_similarities_scores = list(enumerate(cosine_similarities[book_index]))\n",
    " # Sort the books based on similarity scores\n",
    "    cosine_similarities_scores = sorted(cosine_similarities_scores, key=lambda x: x[1], reverse=True)\n",
    "    \n",
    "    # Exclude the book itself from recommendations\n",
    "    cosine_similarities_scores = cosine_similarities_scores[1:]\n",
    "    \n",
    "    # Get the top 5 recommended book indices\n",
    "    recommended_books_indices = [x[0] for x in cosine_similarities_scores[:5]]\n",
    "    \n",
    "    # Get the corresponding book titles\n",
    "    recommended_books = df[\"Book-Title\"].iloc[recommended_books_indices]\n",
    "    \n",
    "    return recommended_books\n",
    "    "
   ]
  },
  {
   "cell_type": "code",
   "execution_count": 7,
   "id": "a3e4a8fa",
   "metadata": {},
   "outputs": [],
   "source": [
    "# Example: Get recommendations for a book title\n",
    "book_title = \"Harry Potter\"\n",
    "recommendations = get_recommendations(book_title)"
   ]
  },
  {
   "cell_type": "code",
   "execution_count": 8,
   "id": "730ea642",
   "metadata": {},
   "outputs": [
    {
     "name": "stdout",
     "output_type": "stream",
     "text": [
      "Recommendations for 'Harry Potter':\n",
      "9    Harry Potter and the Goblet of Fire (Book 4)\n",
      "7                                 PLEADING GUILTY\n",
      "0                             Classical Mythology\n",
      "1                                    Clara Callan\n",
      "2                                        Timeline\n",
      "Name: Book-Title, dtype: object\n"
     ]
    }
   ],
   "source": [
    "print(f\"Recommendations for '{book_title}':\")\n",
    "print(recommendations)"
   ]
  },
  {
   "cell_type": "code",
   "execution_count": 9,
   "id": "dcbf8f11",
   "metadata": {},
   "outputs": [],
   "source": [
    "# Function to evaluate recommendations based on labeled data\n",
    "def evaluate_recommendations(user, recommended_books, labeled_data):\n",
    "    liked_books = set(item[\"book\"] for item in labeled_data if item[\"user\"] == user and item[\"liked\"] == 1)\n",
    "    \n",
    "    # Calculate precision\n",
    "    recommended_and_liked = len(set(recommended_books) & liked_books)\n",
    "    precision = recommended_and_liked / len(recommended_books) if len(recommended_books) > 0 else 0\n",
    "    \n",
    "    # Calculate recall\n",
    "    recall = recommended_and_liked / len(liked_books) if len(liked_books) > 0 else 0\n",
    "    \n",
    "    return precision, recall\n",
    "\n",
    "# Example: Get recommendations for a book title\n",
    "book_title = \"Harry Potter\"\n",
    "recommendations = get_recommendations(book_title)\n",
    "\n",
    "# Assuming you have labeled data indicating user preferences (liked or disliked)\n",
    "labeled_data = [\n",
    "    {\"user\": \"User1\", \"book\": \"Book-1\", \"liked\": 1},\n",
    "    {\"user\": \"User1\", \"book\": \"Book-2\", \"liked\": 0},\n",
    "    # ... more labeled data ...\n",
    "]\n",
    "\n",
    "user = \"User1\"\n",
    "precision, recall = evaluate_recommendations(user, recommendations, labeled_data)\n",
    "\n"
   ]
  },
  {
   "cell_type": "code",
   "execution_count": 11,
   "id": "2bd672f3",
   "metadata": {},
   "outputs": [
    {
     "name": "stdout",
     "output_type": "stream",
     "text": [
      "Precision: 0.0\n",
      "Recall: 0.0\n"
     ]
    }
   ],
   "source": [
    "print(f\"Precision: {precision}\")\n",
    "print(f\"Recall: {recall}\")\n"
   ]
  }
 ],
 "metadata": {
  "kernelspec": {
   "display_name": "Python 3 (ipykernel)",
   "language": "python",
   "name": "python3"
  },
  "language_info": {
   "codemirror_mode": {
    "name": "ipython",
    "version": 3
   },
   "file_extension": ".py",
   "mimetype": "text/x-python",
   "name": "python",
   "nbconvert_exporter": "python",
   "pygments_lexer": "ipython3",
   "version": "3.9.13"
  }
 },
 "nbformat": 4,
 "nbformat_minor": 5
}
